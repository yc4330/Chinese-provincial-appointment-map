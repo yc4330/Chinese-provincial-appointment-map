{
 "cells": [
  {
   "cell_type": "markdown",
   "id": "dab30b11-2621-4289-a518-85037634e4cd",
   "metadata": {},
   "source": [
    "# Project of Chinese Provincial Official Appointment\n",
    "Dec 13, 2023 Yuqi Cheng\n",
    "\n",
    "* Use BeautifulSoup (messy code error?) /**Playwright** to scrape data from multi web pages, save into csv.\n",
    "* Use regex to **extract geography info** (or maybe other NLP tools) and then **explode** into multiple rows.\n",
    "* Use **googletrans** (ReadTimeout error?) to translate the titles from Chinese to English.\n",
    "* Use tqdm to generate **progress bar**.\n",
    "* Use pandas to group by provinces, and generate html for each province.\n",
    "* Decide the key value for mapping.\n",
    "* Merge the propeties dataframe with the shape file, and save into json.\n",
    "* Modify the html template to color by ratings.\n",
    "* And then dive into infinite debugging for **potential improvement**!"
   ]
  },
  {
   "cell_type": "markdown",
   "id": "77d0471c-f104-4e0c-bb4e-68b4aa490a3a",
   "metadata": {},
   "source": [
    "## Scraping\n",
    "data from: http://district.ce.cn/zt/rwk/rw/sbj/"
   ]
  },
  {
   "cell_type": "code",
   "execution_count": 3,
   "id": "ee4fdf81-e52c-410f-861c-a16f20423078",
   "metadata": {},
   "outputs": [],
   "source": [
    "url = 'http://district.ce.cn/zt/rwk/rw/sbj/'\n",
    "url_list = [url]\n",
    "for i in range(33):\n",
    "    url_list.append(url + f'index_{i+1}.shtml')"
   ]
  },
  {
   "cell_type": "code",
   "execution_count": 26,
   "id": "113a971b-4348-40c4-b308-8fe3ffe2f10c",
   "metadata": {},
   "outputs": [],
   "source": [
    "from bs4 import BeautifulSoup\n",
    "import requests\n",
    "import re\n",
    "import pandas as pd\n",
    "import time"
   ]
  },
  {
   "cell_type": "code",
   "execution_count": 34,
   "id": "c63e68ea-7df1-4362-8004-a296c23b2e22",
   "metadata": {},
   "outputs": [],
   "source": [
    "from playwright.async_api import async_playwright\n",
    "playwright = await async_playwright().start()\n",
    "browser = await playwright.chromium.launch(headless=False)\n",
    "page = await browser.new_page()"
   ]
  },
  {
   "cell_type": "markdown",
   "id": "cceacfce-a8e9-4400-8431-24ce867e143f",
   "metadata": {},
   "source": [
    "**What I got when using BeautifulSoup:**\n",
    "\n",
    "\"Some characters could not be decoded, and where replaced with REPLACEMENT CHARACTER\"\n",
    "\n",
    "See in debug.ipynb"
   ]
  },
  {
   "cell_type": "code",
   "execution_count": 35,
   "id": "a703c29a-9c53-4f76-adf8-ad6376f792bc",
   "metadata": {},
   "outputs": [
    {
     "name": "stdout",
     "output_type": "stream",
     "text": [
      "1000\n"
     ]
    },
    {
     "data": {
      "text/plain": [
       "{'title': '张巍任河南省委常委、省纪委书记',\n",
       " 'link': 'http://district.ce.cn/newarea/sddy/202312/09/t20231209_38823329.shtml',\n",
       " 'date': '2023/12/09'}"
      ]
     },
     "execution_count": 35,
     "metadata": {},
     "output_type": "execute_result"
    }
   ],
   "source": [
    "list = []\n",
    "for urls in url_list:\n",
    "    # page = requests.get(urls)\n",
    "    # doc_soup = BeautifulSoup(page.content, \"html.parser\")\n",
    "    await page.goto(urls)\n",
    "    html = await page.content()\n",
    "    doc_soup = BeautifulSoup(html)\n",
    "    for item in doc_soup.find_all(class_='f1'):\n",
    "        dic = {}\n",
    "        dic['title'] = item.a.text\n",
    "        dic['link'] = \"http://district.ce.cn/\" + item.a['href'].replace('../', '')\n",
    "        dic['date'] = item.find_next_sibling().text.replace('[', '').replace(']', '')\n",
    "        list.append(dic)\n",
    "print(len(list))\n",
    "list[0]"
   ]
  },
  {
   "cell_type": "code",
   "execution_count": 38,
   "id": "f705b3ae-4127-4a21-907d-ea5a94b6b595",
   "metadata": {},
   "outputs": [
    {
     "data": {
      "text/html": [
       "<div>\n",
       "<style scoped>\n",
       "    .dataframe tbody tr th:only-of-type {\n",
       "        vertical-align: middle;\n",
       "    }\n",
       "\n",
       "    .dataframe tbody tr th {\n",
       "        vertical-align: top;\n",
       "    }\n",
       "\n",
       "    .dataframe thead th {\n",
       "        text-align: right;\n",
       "    }\n",
       "</style>\n",
       "<table border=\"1\" class=\"dataframe\">\n",
       "  <thead>\n",
       "    <tr style=\"text-align: right;\">\n",
       "      <th></th>\n",
       "      <th>title</th>\n",
       "      <th>link</th>\n",
       "      <th>date</th>\n",
       "    </tr>\n",
       "  </thead>\n",
       "  <tbody>\n",
       "    <tr>\n",
       "      <th>0</th>\n",
       "      <td>张巍任河南省委常委、省纪委书记</td>\n",
       "      <td>http://district.ce.cn/newarea/sddy/202312/09/t...</td>\n",
       "      <td>2023/12/09</td>\n",
       "    </tr>\n",
       "    <tr>\n",
       "      <th>1</th>\n",
       "      <td>黑龙江省委常委张巍调任河南省委常委</td>\n",
       "      <td>http://district.ce.cn/newarea/sddy/202312/09/t...</td>\n",
       "      <td>2023/12/09</td>\n",
       "    </tr>\n",
       "    <tr>\n",
       "      <th>2</th>\n",
       "      <td>石谋军任甘肃省委副书记</td>\n",
       "      <td>http://district.ce.cn/newarea/sddy/202312/08/t...</td>\n",
       "      <td>2023/12/08</td>\n",
       "    </tr>\n",
       "    <tr>\n",
       "      <th>3</th>\n",
       "      <td>刘宇辉任国务院副秘书长 此前担任北京市副市长</td>\n",
       "      <td>http://district.ce.cn/newarea/sddy/202312/08/t...</td>\n",
       "      <td>2023/12/08</td>\n",
       "    </tr>\n",
       "    <tr>\n",
       "      <th>4</th>\n",
       "      <td>陈辐宽任天津市委副书记</td>\n",
       "      <td>http://district.ce.cn/newarea/sddy/202312/07/t...</td>\n",
       "      <td>2023/12/07</td>\n",
       "    </tr>\n",
       "  </tbody>\n",
       "</table>\n",
       "</div>"
      ],
      "text/plain": [
       "                    title                                               link  \\\n",
       "0         张巍任河南省委常委、省纪委书记  http://district.ce.cn/newarea/sddy/202312/09/t...   \n",
       "1       黑龙江省委常委张巍调任河南省委常委  http://district.ce.cn/newarea/sddy/202312/09/t...   \n",
       "2             石谋军任甘肃省委副书记  http://district.ce.cn/newarea/sddy/202312/08/t...   \n",
       "3  刘宇辉任国务院副秘书长 此前担任北京市副市长  http://district.ce.cn/newarea/sddy/202312/08/t...   \n",
       "4             陈辐宽任天津市委副书记  http://district.ce.cn/newarea/sddy/202312/07/t...   \n",
       "\n",
       "         date  \n",
       "0  2023/12/09  \n",
       "1  2023/12/09  \n",
       "2  2023/12/08  \n",
       "3  2023/12/08  \n",
       "4  2023/12/07  "
      ]
     },
     "execution_count": 38,
     "metadata": {},
     "output_type": "execute_result"
    }
   ],
   "source": [
    "df = pd.DataFrame(list)\n",
    "df.head()"
   ]
  },
  {
   "cell_type": "code",
   "execution_count": 39,
   "id": "307b084f-9843-4215-a42d-14854ef34fba",
   "metadata": {},
   "outputs": [],
   "source": [
    "df.to_csv(\"Appointment1000.csv\", index=False)"
   ]
  },
  {
   "cell_type": "markdown",
   "id": "830c57ca-c8b2-437b-936e-040c2f14200b",
   "metadata": {},
   "source": [
    "## Extract geography info\n",
    "Why not try cool Natural Language Processing tools???\n",
    "\n",
    "Well I tried, and decided that it's ok to build the 34-province-list manually.\n",
    "* translate + nltk: can't figure out provinces in China\n",
    "* HanLP (for Chinese): only for python 3.7\n",
    "\n",
    "But if I need to specify the cities, it's worth a try."
   ]
  },
  {
   "cell_type": "code",
   "execution_count": 1,
   "id": "2d88dd30-b847-4bf4-8734-98e1c02795cc",
   "metadata": {},
   "outputs": [],
   "source": [
    "import pandas as pd\n",
    "df = pd.read_csv(\"Appointment1000.csv\")"
   ]
  },
  {
   "cell_type": "code",
   "execution_count": 3,
   "id": "b0bdd8a4-5bac-4aea-829d-78acabb4f5bd",
   "metadata": {},
   "outputs": [],
   "source": [
    "chinese_provinces = [\n",
    "    '北京', '天津', '河北', '山西', '内蒙古',\n",
    "    '辽宁', '吉林', '黑龙江', '上海', '江苏',\n",
    "    '浙江', '安徽', '福建', '江西', '山东',\n",
    "    '河南', '湖北', '湖南', '广东', '广西',\n",
    "    '海南', '重庆', '四川', '贵州', '云南',\n",
    "    '西藏', '陕西', '甘肃', '青海', '宁夏',\n",
    "    '新疆', '台湾', '香港', '澳门'\n",
    "]"
   ]
  },
  {
   "cell_type": "code",
   "execution_count": 4,
   "id": "b4da0b0a-3e7c-49cb-9444-4ee3eb33738d",
   "metadata": {},
   "outputs": [],
   "source": [
    "df['province'] = df['title'].apply(lambda x: [province for province in chinese_provinces if province in x])"
   ]
  },
  {
   "cell_type": "code",
   "execution_count": 5,
   "id": "0e606a48-104e-4643-ba7e-96dc377d6cc2",
   "metadata": {},
   "outputs": [],
   "source": [
    "df_exploded = df.explode('province').reset_index(drop=True)"
   ]
  },
  {
   "cell_type": "code",
   "execution_count": 6,
   "id": "da7c35fc-32b0-46bb-a08e-d6e1e51510df",
   "metadata": {},
   "outputs": [
    {
     "data": {
      "text/html": [
       "<div>\n",
       "<style scoped>\n",
       "    .dataframe tbody tr th:only-of-type {\n",
       "        vertical-align: middle;\n",
       "    }\n",
       "\n",
       "    .dataframe tbody tr th {\n",
       "        vertical-align: top;\n",
       "    }\n",
       "\n",
       "    .dataframe thead th {\n",
       "        text-align: right;\n",
       "    }\n",
       "</style>\n",
       "<table border=\"1\" class=\"dataframe\">\n",
       "  <thead>\n",
       "    <tr style=\"text-align: right;\">\n",
       "      <th></th>\n",
       "      <th>title</th>\n",
       "      <th>link</th>\n",
       "      <th>date</th>\n",
       "      <th>province</th>\n",
       "    </tr>\n",
       "  </thead>\n",
       "  <tbody>\n",
       "    <tr>\n",
       "      <th>0</th>\n",
       "      <td>张巍任河南省委常委、省纪委书记</td>\n",
       "      <td>http://district.ce.cn/newarea/sddy/202312/09/t...</td>\n",
       "      <td>2023/12/09</td>\n",
       "      <td>河南</td>\n",
       "    </tr>\n",
       "    <tr>\n",
       "      <th>1</th>\n",
       "      <td>黑龙江省委常委张巍调任河南省委常委</td>\n",
       "      <td>http://district.ce.cn/newarea/sddy/202312/09/t...</td>\n",
       "      <td>2023/12/09</td>\n",
       "      <td>黑龙江</td>\n",
       "    </tr>\n",
       "    <tr>\n",
       "      <th>2</th>\n",
       "      <td>黑龙江省委常委张巍调任河南省委常委</td>\n",
       "      <td>http://district.ce.cn/newarea/sddy/202312/09/t...</td>\n",
       "      <td>2023/12/09</td>\n",
       "      <td>河南</td>\n",
       "    </tr>\n",
       "    <tr>\n",
       "      <th>3</th>\n",
       "      <td>石谋军任甘肃省委副书记</td>\n",
       "      <td>http://district.ce.cn/newarea/sddy/202312/08/t...</td>\n",
       "      <td>2023/12/08</td>\n",
       "      <td>甘肃</td>\n",
       "    </tr>\n",
       "    <tr>\n",
       "      <th>4</th>\n",
       "      <td>刘宇辉任国务院副秘书长 此前担任北京市副市长</td>\n",
       "      <td>http://district.ce.cn/newarea/sddy/202312/08/t...</td>\n",
       "      <td>2023/12/08</td>\n",
       "      <td>北京</td>\n",
       "    </tr>\n",
       "  </tbody>\n",
       "</table>\n",
       "</div>"
      ],
      "text/plain": [
       "                    title                                               link  \\\n",
       "0         张巍任河南省委常委、省纪委书记  http://district.ce.cn/newarea/sddy/202312/09/t...   \n",
       "1       黑龙江省委常委张巍调任河南省委常委  http://district.ce.cn/newarea/sddy/202312/09/t...   \n",
       "2       黑龙江省委常委张巍调任河南省委常委  http://district.ce.cn/newarea/sddy/202312/09/t...   \n",
       "3             石谋军任甘肃省委副书记  http://district.ce.cn/newarea/sddy/202312/08/t...   \n",
       "4  刘宇辉任国务院副秘书长 此前担任北京市副市长  http://district.ce.cn/newarea/sddy/202312/08/t...   \n",
       "\n",
       "         date province  \n",
       "0  2023/12/09       河南  \n",
       "1  2023/12/09      黑龙江  \n",
       "2  2023/12/09       河南  \n",
       "3  2023/12/08       甘肃  \n",
       "4  2023/12/08       北京  "
      ]
     },
     "execution_count": 6,
     "metadata": {},
     "output_type": "execute_result"
    }
   ],
   "source": [
    "df_exploded.head()"
   ]
  },
  {
   "cell_type": "code",
   "execution_count": 7,
   "id": "32faab6d-6176-4178-8908-9c9dac49f67a",
   "metadata": {},
   "outputs": [],
   "source": [
    "df_exploded.to_csv(\"df_exploded.csv\", index=False)"
   ]
  },
  {
   "cell_type": "code",
   "execution_count": 10,
   "id": "a356e2be-7d97-41c9-9baa-569eedd15558",
   "metadata": {},
   "outputs": [
    {
     "data": {
      "text/plain": [
       "(1033, 4)"
      ]
     },
     "execution_count": 10,
     "metadata": {},
     "output_type": "execute_result"
    }
   ],
   "source": [
    "df_exploded.shape"
   ]
  },
  {
   "cell_type": "markdown",
   "id": "4a2e8f09-8abf-4331-ba0c-a06960734758",
   "metadata": {},
   "source": [
    "## Tranlate to English\n",
    "Improvement: add a button to change language\n",
    "\n",
    "Improvement: Sometimes the traslation of Chinese name is ridiculous!\n",
    "\n",
    "* Error: ReadTimeout: The read operation timed out\n",
    "\n",
    "  I tried to process each chunk separately, and it works, so that's fine.\n",
    "\n",
    "* Translation is slow\n",
    "\n",
    "  You may want to add a progress bar using tqdm"
   ]
  },
  {
   "cell_type": "code",
   "execution_count": 8,
   "id": "4ef8d4c4-a43c-4bc4-abae-2183c6597030",
   "metadata": {},
   "outputs": [],
   "source": [
    "from googletrans import Translator\n",
    "\n",
    "def translate_text(text, target_language='en'):\n",
    "    translator = Translator()\n",
    "    translation = translator.translate(text, dest=target_language)\n",
    "    return translation.text"
   ]
  },
  {
   "cell_type": "code",
   "execution_count": 13,
   "id": "f372469a-fbca-40ec-8972-310f8ffde7b0",
   "metadata": {},
   "outputs": [
    {
     "name": "stderr",
     "output_type": "stream",
     "text": [
      "Processing: 100%|███████████████████████████████| 10/10 [13:52<00:00, 83.20s/it]\n"
     ]
    }
   ],
   "source": [
    "list = []\n",
    "from tqdm import tqdm\n",
    "import time\n",
    "for i in tqdm(range(10), desc=\"Processing\"):\n",
    "    list1 = df_exploded['title'][i*100:i*100+100].apply(lambda x: translate_text(x, target_language='en'))\n",
    "    list.append(list1)"
   ]
  },
  {
   "cell_type": "code",
   "execution_count": 15,
   "id": "abd089dd-c997-4be2-9e2e-330bdd624aeb",
   "metadata": {},
   "outputs": [],
   "source": [
    "list1 = df_exploded['title'][1000:].apply(lambda x: translate_text(x, target_language='en'))\n",
    "list.append(list1)"
   ]
  },
  {
   "cell_type": "code",
   "execution_count": 21,
   "id": "a4aa344c-4222-47ea-ad4a-c30e5ac70758",
   "metadata": {},
   "outputs": [
    {
     "data": {
      "text/plain": [
       "1033"
      ]
     },
     "execution_count": 21,
     "metadata": {},
     "output_type": "execute_result"
    }
   ],
   "source": [
    "import numpy as np\n",
    "smart_list = np.concatenate(list)\n",
    "len(smart_list)"
   ]
  },
  {
   "cell_type": "code",
   "execution_count": 22,
   "id": "330388b9-027a-47e2-af04-4b84c6a022f3",
   "metadata": {},
   "outputs": [
    {
     "data": {
      "text/plain": [
       "array(['Zhang Wei is the member of the Standing Committee of the Henan Provincial Party Committee, Secretary of the Provincial Discipline Inspection Commission',\n",
       "       'Zhang Wei, member of the Standing Committee of Heilongjiang Provincial Party Committee, was transferred to the Standing Committee of the Henan Provincial Party Committee',\n",
       "       'Zhang Wei, member of the Standing Committee of Heilongjiang Provincial Party Committee, was transferred to the Standing Committee of the Henan Provincial Party Committee',\n",
       "       'Stone Mouzun as Deputy Secretary of the Gansu Provincial Party Committee',\n",
       "       'Liu Yuhui served as Deputy Secretary -General of the State Council.',\n",
       "       'Chen Tiekuan is the deputy secretary of the Tianjin Municipal Party Committee',\n",
       "       'Cheng Lihua is the secretary of the party group of Chongqing CPPCC',\n",
       "       'Wu Haitao no longer serves as the deputy governor of Hubei Province as a member of the Standing Committee of the Provincial Party Committee and Secretary -General of the Provincial Party Committee',\n",
       "       \"Blue Buddha resigned as the director of the Standing Committee of the Shanxi Provincial People's Congress because of his work change\",\n",
       "       'Chen Chunjiang is the deputy governor of Shaanxi Province Zhong Hongjiang no longer served'],\n",
       "      dtype=object)"
      ]
     },
     "execution_count": 22,
     "metadata": {},
     "output_type": "execute_result"
    }
   ],
   "source": [
    "smart_list[0:10]"
   ]
  },
  {
   "cell_type": "code",
   "execution_count": 24,
   "id": "f642d745-afb2-45cb-8b90-4a931d7e2280",
   "metadata": {},
   "outputs": [],
   "source": [
    "df_exploded['en'] = smart_list"
   ]
  },
  {
   "cell_type": "code",
   "execution_count": 25,
   "id": "abeac2a2-af9f-49cf-ac22-4a25d79cfaab",
   "metadata": {},
   "outputs": [
    {
     "data": {
      "text/html": [
       "<div>\n",
       "<style scoped>\n",
       "    .dataframe tbody tr th:only-of-type {\n",
       "        vertical-align: middle;\n",
       "    }\n",
       "\n",
       "    .dataframe tbody tr th {\n",
       "        vertical-align: top;\n",
       "    }\n",
       "\n",
       "    .dataframe thead th {\n",
       "        text-align: right;\n",
       "    }\n",
       "</style>\n",
       "<table border=\"1\" class=\"dataframe\">\n",
       "  <thead>\n",
       "    <tr style=\"text-align: right;\">\n",
       "      <th></th>\n",
       "      <th>title</th>\n",
       "      <th>link</th>\n",
       "      <th>date</th>\n",
       "      <th>province</th>\n",
       "      <th>en</th>\n",
       "    </tr>\n",
       "  </thead>\n",
       "  <tbody>\n",
       "    <tr>\n",
       "      <th>0</th>\n",
       "      <td>张巍任河南省委常委、省纪委书记</td>\n",
       "      <td>http://district.ce.cn/newarea/sddy/202312/09/t...</td>\n",
       "      <td>2023/12/09</td>\n",
       "      <td>河南</td>\n",
       "      <td>Zhang Wei is the member of the Standing Commit...</td>\n",
       "    </tr>\n",
       "    <tr>\n",
       "      <th>1</th>\n",
       "      <td>黑龙江省委常委张巍调任河南省委常委</td>\n",
       "      <td>http://district.ce.cn/newarea/sddy/202312/09/t...</td>\n",
       "      <td>2023/12/09</td>\n",
       "      <td>黑龙江</td>\n",
       "      <td>Zhang Wei, member of the Standing Committee of...</td>\n",
       "    </tr>\n",
       "    <tr>\n",
       "      <th>2</th>\n",
       "      <td>黑龙江省委常委张巍调任河南省委常委</td>\n",
       "      <td>http://district.ce.cn/newarea/sddy/202312/09/t...</td>\n",
       "      <td>2023/12/09</td>\n",
       "      <td>河南</td>\n",
       "      <td>Zhang Wei, member of the Standing Committee of...</td>\n",
       "    </tr>\n",
       "    <tr>\n",
       "      <th>3</th>\n",
       "      <td>石谋军任甘肃省委副书记</td>\n",
       "      <td>http://district.ce.cn/newarea/sddy/202312/08/t...</td>\n",
       "      <td>2023/12/08</td>\n",
       "      <td>甘肃</td>\n",
       "      <td>Stone Mouzun as Deputy Secretary of the Gansu ...</td>\n",
       "    </tr>\n",
       "    <tr>\n",
       "      <th>4</th>\n",
       "      <td>刘宇辉任国务院副秘书长 此前担任北京市副市长</td>\n",
       "      <td>http://district.ce.cn/newarea/sddy/202312/08/t...</td>\n",
       "      <td>2023/12/08</td>\n",
       "      <td>北京</td>\n",
       "      <td>Liu Yuhui served as Deputy Secretary -General ...</td>\n",
       "    </tr>\n",
       "  </tbody>\n",
       "</table>\n",
       "</div>"
      ],
      "text/plain": [
       "                    title                                               link  \\\n",
       "0         张巍任河南省委常委、省纪委书记  http://district.ce.cn/newarea/sddy/202312/09/t...   \n",
       "1       黑龙江省委常委张巍调任河南省委常委  http://district.ce.cn/newarea/sddy/202312/09/t...   \n",
       "2       黑龙江省委常委张巍调任河南省委常委  http://district.ce.cn/newarea/sddy/202312/09/t...   \n",
       "3             石谋军任甘肃省委副书记  http://district.ce.cn/newarea/sddy/202312/08/t...   \n",
       "4  刘宇辉任国务院副秘书长 此前担任北京市副市长  http://district.ce.cn/newarea/sddy/202312/08/t...   \n",
       "\n",
       "         date province                                                 en  \n",
       "0  2023/12/09       河南  Zhang Wei is the member of the Standing Commit...  \n",
       "1  2023/12/09      黑龙江  Zhang Wei, member of the Standing Committee of...  \n",
       "2  2023/12/09       河南  Zhang Wei, member of the Standing Committee of...  \n",
       "3  2023/12/08       甘肃  Stone Mouzun as Deputy Secretary of the Gansu ...  \n",
       "4  2023/12/08       北京  Liu Yuhui served as Deputy Secretary -General ...  "
      ]
     },
     "execution_count": 25,
     "metadata": {},
     "output_type": "execute_result"
    }
   ],
   "source": [
    "df_exploded.head()"
   ]
  },
  {
   "cell_type": "code",
   "execution_count": 26,
   "id": "b12ab5c1-a474-478d-bc7a-16c8148617b1",
   "metadata": {},
   "outputs": [],
   "source": [
    "df_exploded.to_csv(\"df_exploded.csv\", index=False)"
   ]
  },
  {
   "cell_type": "markdown",
   "id": "3ac8cb22-2caf-4616-acac-49d134a77b8e",
   "metadata": {},
   "source": [
    "## Group by provinces, and generate html\n",
    "Improvement: seperate name, province & city, position\n",
    "\n",
    "Improvement: remove duplicate rows. \n",
    "\n",
    "For example: \n",
    "* **Zhang Wei** is the member of **the Standing Committee of the Henan Provincial Party Committee**, Secretary of the Provincial Discipline Inspection Commission.\n",
    "* **Zhang Wei**, member of the Standing Committee of Heilongjiang Provincial Party Committee, was transferred to **the Standing Committee of the Henan Provincial Party Committee**."
   ]
  },
  {
   "cell_type": "code",
   "execution_count": 27,
   "id": "b801530d-f846-4aea-a403-29ba970896da",
   "metadata": {},
   "outputs": [
    {
     "data": {
      "text/html": [
       "<div>\n",
       "<style scoped>\n",
       "    .dataframe tbody tr th:only-of-type {\n",
       "        vertical-align: middle;\n",
       "    }\n",
       "\n",
       "    .dataframe tbody tr th {\n",
       "        vertical-align: top;\n",
       "    }\n",
       "\n",
       "    .dataframe thead th {\n",
       "        text-align: right;\n",
       "    }\n",
       "</style>\n",
       "<table border=\"1\" class=\"dataframe\">\n",
       "  <thead>\n",
       "    <tr style=\"text-align: right;\">\n",
       "      <th></th>\n",
       "      <th>province</th>\n",
       "      <th>content</th>\n",
       "    </tr>\n",
       "  </thead>\n",
       "  <tbody>\n",
       "    <tr>\n",
       "      <th>0</th>\n",
       "      <td>上海</td>\n",
       "      <td>[{'title': '上海市委副书记吴清兼任政法委书记', 'en': 'Wu Qing,...</td>\n",
       "    </tr>\n",
       "    <tr>\n",
       "      <th>1</th>\n",
       "      <td>云南</td>\n",
       "      <td>[{'title': '刘非任云南省委组织部部长', 'en': 'Liu Fei is t...</td>\n",
       "    </tr>\n",
       "    <tr>\n",
       "      <th>2</th>\n",
       "      <td>内蒙古</td>\n",
       "      <td>[{'title': '内蒙古自治区政协副主席杨劼兼任教育厅厅长', 'en': 'Yang...</td>\n",
       "    </tr>\n",
       "    <tr>\n",
       "      <th>3</th>\n",
       "      <td>北京</td>\n",
       "      <td>[{'title': '刘宇辉任国务院副秘书长 此前担任北京市副市长', 'en': 'Li...</td>\n",
       "    </tr>\n",
       "    <tr>\n",
       "      <th>4</th>\n",
       "      <td>吉林</td>\n",
       "      <td>[{'title': '韩福春任吉林省委常委', 'en': 'Han Fuchun ser...</td>\n",
       "    </tr>\n",
       "  </tbody>\n",
       "</table>\n",
       "</div>"
      ],
      "text/plain": [
       "  province                                            content\n",
       "0       上海  [{'title': '上海市委副书记吴清兼任政法委书记', 'en': 'Wu Qing,...\n",
       "1       云南  [{'title': '刘非任云南省委组织部部长', 'en': 'Liu Fei is t...\n",
       "2      内蒙古  [{'title': '内蒙古自治区政协副主席杨劼兼任教育厅厅长', 'en': 'Yang...\n",
       "3       北京  [{'title': '刘宇辉任国务院副秘书长 此前担任北京市副市长', 'en': 'Li...\n",
       "4       吉林  [{'title': '韩福春任吉林省委常委', 'en': 'Han Fuchun ser..."
      ]
     },
     "execution_count": 27,
     "metadata": {},
     "output_type": "execute_result"
    }
   ],
   "source": [
    "df2 = df_exploded.groupby('province')[['title', 'en', 'link', 'date']].apply(lambda x: x.to_dict(orient='records')).reset_index(name='content')\n",
    "df2.head()"
   ]
  },
  {
   "cell_type": "code",
   "execution_count": 47,
   "id": "3a2eb96e-4ede-472e-937e-f67da213c9b4",
   "metadata": {},
   "outputs": [],
   "source": [
    "df2.to_csv(\"groupby_province.csv\",index=False)"
   ]
  },
  {
   "cell_type": "code",
   "execution_count": 31,
   "id": "04e00a4c-f0aa-47f7-91b1-2403b912acb5",
   "metadata": {},
   "outputs": [],
   "source": [
    "list = []\n",
    "for province in df2['province']:\n",
    "    list.append(translate_text(province, target_language='en'))"
   ]
  },
  {
   "cell_type": "code",
   "execution_count": 32,
   "id": "d3f8e525-82e7-42c5-8646-2bda93ec7055",
   "metadata": {},
   "outputs": [],
   "source": [
    "df2['province_en'] = list"
   ]
  },
  {
   "cell_type": "code",
   "execution_count": 40,
   "id": "8912c541-3514-467c-ab41-75445537f036",
   "metadata": {},
   "outputs": [],
   "source": [
    "def convert_article(list):\n",
    "    article = \"\"\n",
    "    for item in list:\n",
    "        article += f\" <p><a href={item['link']}>{item['date']}</a>   {item['en']}</p>\"\n",
    "    return article\n",
    "df2['properties.article'] = df2['province_en'].apply(lambda x: f\"<div class='appointment'><h1><b>{x}</b></h1>\") + df2['content'].apply(lambda x: convert_article(x))"
   ]
  },
  {
   "cell_type": "code",
   "execution_count": 41,
   "id": "e5b0b54f-7461-4de6-a98a-e31c186c3ce5",
   "metadata": {},
   "outputs": [
    {
     "data": {
      "text/html": [
       "<div>\n",
       "<style scoped>\n",
       "    .dataframe tbody tr th:only-of-type {\n",
       "        vertical-align: middle;\n",
       "    }\n",
       "\n",
       "    .dataframe tbody tr th {\n",
       "        vertical-align: top;\n",
       "    }\n",
       "\n",
       "    .dataframe thead th {\n",
       "        text-align: right;\n",
       "    }\n",
       "</style>\n",
       "<table border=\"1\" class=\"dataframe\">\n",
       "  <thead>\n",
       "    <tr style=\"text-align: right;\">\n",
       "      <th></th>\n",
       "      <th>province</th>\n",
       "      <th>content</th>\n",
       "      <th>province_en</th>\n",
       "      <th>properties.article</th>\n",
       "    </tr>\n",
       "  </thead>\n",
       "  <tbody>\n",
       "    <tr>\n",
       "      <th>0</th>\n",
       "      <td>上海</td>\n",
       "      <td>[{'title': '上海市委副书记吴清兼任政法委书记', 'en': 'Wu Qing,...</td>\n",
       "      <td>Shanghai</td>\n",
       "      <td>&lt;div class='appointment'&gt;&lt;h1&gt;&lt;b&gt;Shanghai&lt;/b&gt;&lt;/...</td>\n",
       "    </tr>\n",
       "  </tbody>\n",
       "</table>\n",
       "</div>"
      ],
      "text/plain": [
       "  province                                            content province_en  \\\n",
       "0       上海  [{'title': '上海市委副书记吴清兼任政法委书记', 'en': 'Wu Qing,...    Shanghai   \n",
       "\n",
       "                                  properties.article  \n",
       "0  <div class='appointment'><h1><b>Shanghai</b></...  "
      ]
     },
     "execution_count": 41,
     "metadata": {},
     "output_type": "execute_result"
    }
   ],
   "source": [
    "df2.head(1)"
   ]
  },
  {
   "cell_type": "code",
   "execution_count": 42,
   "id": "e1ae7c6f-a35b-476b-823f-5a30ed9f7199",
   "metadata": {},
   "outputs": [],
   "source": [
    "df2 = df2.rename(columns={'province_en': 'properties.headline'})"
   ]
  },
  {
   "cell_type": "markdown",
   "id": "2e093c66-fb67-41cb-b058-6e1bc4275e55",
   "metadata": {},
   "source": [
    "## Decide the key value for mapping\n",
    "I choose to color by rating, the number of which is how many appointments happened in the time period. The color represents the change frequency of officials in one province.\n",
    "\n",
    "They are about 20-40, so I set the rating color in html in this way."
   ]
  },
  {
   "cell_type": "code",
   "execution_count": 43,
   "id": "1ed45371-f400-4f9b-9f9b-ae1f7a4c48a9",
   "metadata": {},
   "outputs": [],
   "source": [
    "df2['properties.rating'] = df2['content'].apply(lambda x: len(x))"
   ]
  },
  {
   "cell_type": "code",
   "execution_count": 44,
   "id": "0a98beb3-e569-4950-96b5-d2ecfdf63461",
   "metadata": {},
   "outputs": [
    {
     "data": {
      "text/html": [
       "<div>\n",
       "<style scoped>\n",
       "    .dataframe tbody tr th:only-of-type {\n",
       "        vertical-align: middle;\n",
       "    }\n",
       "\n",
       "    .dataframe tbody tr th {\n",
       "        vertical-align: top;\n",
       "    }\n",
       "\n",
       "    .dataframe thead th {\n",
       "        text-align: right;\n",
       "    }\n",
       "</style>\n",
       "<table border=\"1\" class=\"dataframe\">\n",
       "  <thead>\n",
       "    <tr style=\"text-align: right;\">\n",
       "      <th></th>\n",
       "      <th>province</th>\n",
       "      <th>content</th>\n",
       "      <th>properties.headline</th>\n",
       "      <th>properties.article</th>\n",
       "      <th>properties.rating</th>\n",
       "    </tr>\n",
       "  </thead>\n",
       "  <tbody>\n",
       "    <tr>\n",
       "      <th>0</th>\n",
       "      <td>上海</td>\n",
       "      <td>[{'title': '上海市委副书记吴清兼任政法委书记', 'en': 'Wu Qing,...</td>\n",
       "      <td>Shanghai</td>\n",
       "      <td>&lt;div class='appointment'&gt;&lt;h1&gt;&lt;b&gt;Shanghai&lt;/b&gt;&lt;/...</td>\n",
       "      <td>36</td>\n",
       "    </tr>\n",
       "    <tr>\n",
       "      <th>1</th>\n",
       "      <td>云南</td>\n",
       "      <td>[{'title': '刘非任云南省委组织部部长', 'en': 'Liu Fei is t...</td>\n",
       "      <td>Yunnan</td>\n",
       "      <td>&lt;div class='appointment'&gt;&lt;h1&gt;&lt;b&gt;Yunnan&lt;/b&gt;&lt;/h1...</td>\n",
       "      <td>21</td>\n",
       "    </tr>\n",
       "    <tr>\n",
       "      <th>2</th>\n",
       "      <td>内蒙古</td>\n",
       "      <td>[{'title': '内蒙古自治区政协副主席杨劼兼任教育厅厅长', 'en': 'Yang...</td>\n",
       "      <td>Inner Mongolia</td>\n",
       "      <td>&lt;div class='appointment'&gt;&lt;h1&gt;&lt;b&gt;Inner Mongolia...</td>\n",
       "      <td>23</td>\n",
       "    </tr>\n",
       "    <tr>\n",
       "      <th>3</th>\n",
       "      <td>北京</td>\n",
       "      <td>[{'title': '刘宇辉任国务院副秘书长 此前担任北京市副市长', 'en': 'Li...</td>\n",
       "      <td>Beijing</td>\n",
       "      <td>&lt;div class='appointment'&gt;&lt;h1&gt;&lt;b&gt;Beijing&lt;/b&gt;&lt;/h...</td>\n",
       "      <td>26</td>\n",
       "    </tr>\n",
       "    <tr>\n",
       "      <th>4</th>\n",
       "      <td>吉林</td>\n",
       "      <td>[{'title': '韩福春任吉林省委常委', 'en': 'Han Fuchun ser...</td>\n",
       "      <td>Jilin</td>\n",
       "      <td>&lt;div class='appointment'&gt;&lt;h1&gt;&lt;b&gt;Jilin&lt;/b&gt;&lt;/h1&gt;...</td>\n",
       "      <td>32</td>\n",
       "    </tr>\n",
       "  </tbody>\n",
       "</table>\n",
       "</div>"
      ],
      "text/plain": [
       "  province                                            content  \\\n",
       "0       上海  [{'title': '上海市委副书记吴清兼任政法委书记', 'en': 'Wu Qing,...   \n",
       "1       云南  [{'title': '刘非任云南省委组织部部长', 'en': 'Liu Fei is t...   \n",
       "2      内蒙古  [{'title': '内蒙古自治区政协副主席杨劼兼任教育厅厅长', 'en': 'Yang...   \n",
       "3       北京  [{'title': '刘宇辉任国务院副秘书长 此前担任北京市副市长', 'en': 'Li...   \n",
       "4       吉林  [{'title': '韩福春任吉林省委常委', 'en': 'Han Fuchun ser...   \n",
       "\n",
       "  properties.headline                                 properties.article  \\\n",
       "0            Shanghai  <div class='appointment'><h1><b>Shanghai</b></...   \n",
       "1              Yunnan  <div class='appointment'><h1><b>Yunnan</b></h1...   \n",
       "2      Inner Mongolia  <div class='appointment'><h1><b>Inner Mongolia...   \n",
       "3             Beijing  <div class='appointment'><h1><b>Beijing</b></h...   \n",
       "4               Jilin  <div class='appointment'><h1><b>Jilin</b></h1>...   \n",
       "\n",
       "   properties.rating  \n",
       "0                 36  \n",
       "1                 21  \n",
       "2                 23  \n",
       "3                 26  \n",
       "4                 32  "
      ]
     },
     "execution_count": 44,
     "metadata": {},
     "output_type": "execute_result"
    }
   ],
   "source": [
    "df2.head()"
   ]
  },
  {
   "cell_type": "markdown",
   "id": "7e57cf6a-f260-4221-b671-13eec1786586",
   "metadata": {},
   "source": [
    "## Merge with the shape file\n",
    "I downloaded the shape file of Chinese provinces from github.\n",
    "\n",
    "JSONDecodeError: Expecting value: line 1 column 1 (char 0)\n",
    "\n",
    "Delete \"var infoData = \" and it will be fine."
   ]
  },
  {
   "cell_type": "code",
   "execution_count": 46,
   "id": "a4d99f9e-2789-49fd-adfa-749c80035f98",
   "metadata": {},
   "outputs": [],
   "source": [
    "import requests\n",
    "import json\n",
    "import numpy as np\n",
    "import pandas as pd\n",
    "from pandas import json_normalize"
   ]
  },
  {
   "cell_type": "code",
   "execution_count": 49,
   "id": "568f36ca-e2a0-47c2-8a49-25a66728e21f",
   "metadata": {},
   "outputs": [],
   "source": [
    "with open('geo-data.js') as json_data:\n",
    "    geometry_data = json.load(json_data)"
   ]
  },
  {
   "cell_type": "code",
   "execution_count": 50,
   "id": "bedef892-eded-42a8-b0fc-0f2e33c00442",
   "metadata": {},
   "outputs": [],
   "source": [
    "df_geo = pd.DataFrame.from_dict(json_normalize(geometry_data['features']), orient='columns')"
   ]
  },
  {
   "cell_type": "code",
   "execution_count": 51,
   "id": "30a3c380-a096-4e99-809c-284f0e0fd87d",
   "metadata": {},
   "outputs": [
    {
     "data": {
      "text/plain": [
       "(34, 8)"
      ]
     },
     "execution_count": 51,
     "metadata": {},
     "output_type": "execute_result"
    }
   ],
   "source": [
    "df_geo.shape"
   ]
  },
  {
   "cell_type": "code",
   "execution_count": 52,
   "id": "47b73fab-fb6c-4638-9fed-c637c8d354cd",
   "metadata": {},
   "outputs": [
    {
     "data": {
      "text/html": [
       "<div>\n",
       "<style scoped>\n",
       "    .dataframe tbody tr th:only-of-type {\n",
       "        vertical-align: middle;\n",
       "    }\n",
       "\n",
       "    .dataframe tbody tr th {\n",
       "        vertical-align: top;\n",
       "    }\n",
       "\n",
       "    .dataframe thead th {\n",
       "        text-align: right;\n",
       "    }\n",
       "</style>\n",
       "<table border=\"1\" class=\"dataframe\">\n",
       "  <thead>\n",
       "    <tr style=\"text-align: right;\">\n",
       "      <th></th>\n",
       "      <th>type</th>\n",
       "      <th>properties.id</th>\n",
       "      <th>properties.size</th>\n",
       "      <th>properties.name</th>\n",
       "      <th>properties.cp</th>\n",
       "      <th>properties.childNum</th>\n",
       "      <th>geometry.type</th>\n",
       "      <th>geometry.coordinates</th>\n",
       "    </tr>\n",
       "  </thead>\n",
       "  <tbody>\n",
       "    <tr>\n",
       "      <th>0</th>\n",
       "      <td>Feature</td>\n",
       "      <td>65</td>\n",
       "      <td>550</td>\n",
       "      <td>新疆</td>\n",
       "      <td>[84.9023, 42.148]</td>\n",
       "      <td>18</td>\n",
       "      <td>Polygon</td>\n",
       "      <td>[[[96.416, 42.7588], [96.416, 42.7148], [95.97...</td>\n",
       "    </tr>\n",
       "    <tr>\n",
       "      <th>1</th>\n",
       "      <td>Feature</td>\n",
       "      <td>54</td>\n",
       "      <td>550</td>\n",
       "      <td>西藏</td>\n",
       "      <td>[87.8695, 31.6846]</td>\n",
       "      <td>7</td>\n",
       "      <td>Polygon</td>\n",
       "      <td>[[[79.0137, 34.3213], [79.1016, 34.4531], [79....</td>\n",
       "    </tr>\n",
       "    <tr>\n",
       "      <th>2</th>\n",
       "      <td>Feature</td>\n",
       "      <td>15</td>\n",
       "      <td>450</td>\n",
       "      <td>内蒙古</td>\n",
       "      <td>[112.5977, 46.3408]</td>\n",
       "      <td>12</td>\n",
       "      <td>Polygon</td>\n",
       "      <td>[[[97.207, 42.8027], [99.4922, 42.583], [100.8...</td>\n",
       "    </tr>\n",
       "    <tr>\n",
       "      <th>3</th>\n",
       "      <td>Feature</td>\n",
       "      <td>63</td>\n",
       "      <td>800</td>\n",
       "      <td>青海</td>\n",
       "      <td>[95.2402, 35.4199]</td>\n",
       "      <td>8</td>\n",
       "      <td>Polygon</td>\n",
       "      <td>[[[89.7363, 36.0791], [89.9121, 36.0791], [90,...</td>\n",
       "    </tr>\n",
       "    <tr>\n",
       "      <th>4</th>\n",
       "      <td>Feature</td>\n",
       "      <td>51</td>\n",
       "      <td>900</td>\n",
       "      <td>四川</td>\n",
       "      <td>[101.9199, 30.1904]</td>\n",
       "      <td>21</td>\n",
       "      <td>Polygon</td>\n",
       "      <td>[[[101.7773, 33.5303], [101.8652, 33.5742], [1...</td>\n",
       "    </tr>\n",
       "  </tbody>\n",
       "</table>\n",
       "</div>"
      ],
      "text/plain": [
       "      type properties.id properties.size properties.name        properties.cp  \\\n",
       "0  Feature            65             550              新疆    [84.9023, 42.148]   \n",
       "1  Feature            54             550              西藏   [87.8695, 31.6846]   \n",
       "2  Feature            15             450             内蒙古  [112.5977, 46.3408]   \n",
       "3  Feature            63             800              青海   [95.2402, 35.4199]   \n",
       "4  Feature            51             900              四川  [101.9199, 30.1904]   \n",
       "\n",
       "   properties.childNum geometry.type  \\\n",
       "0                   18       Polygon   \n",
       "1                    7       Polygon   \n",
       "2                   12       Polygon   \n",
       "3                    8       Polygon   \n",
       "4                   21       Polygon   \n",
       "\n",
       "                                geometry.coordinates  \n",
       "0  [[[96.416, 42.7588], [96.416, 42.7148], [95.97...  \n",
       "1  [[[79.0137, 34.3213], [79.1016, 34.4531], [79....  \n",
       "2  [[[97.207, 42.8027], [99.4922, 42.583], [100.8...  \n",
       "3  [[[89.7363, 36.0791], [89.9121, 36.0791], [90,...  \n",
       "4  [[[101.7773, 33.5303], [101.8652, 33.5742], [1...  "
      ]
     },
     "execution_count": 52,
     "metadata": {},
     "output_type": "execute_result"
    }
   ],
   "source": [
    "df_geo.head()"
   ]
  },
  {
   "cell_type": "code",
   "execution_count": 53,
   "id": "ce72a446-3866-4476-ae81-8b86e04c0679",
   "metadata": {},
   "outputs": [
    {
     "data": {
      "text/html": [
       "<div>\n",
       "<style scoped>\n",
       "    .dataframe tbody tr th:only-of-type {\n",
       "        vertical-align: middle;\n",
       "    }\n",
       "\n",
       "    .dataframe tbody tr th {\n",
       "        vertical-align: top;\n",
       "    }\n",
       "\n",
       "    .dataframe thead th {\n",
       "        text-align: right;\n",
       "    }\n",
       "</style>\n",
       "<table border=\"1\" class=\"dataframe\">\n",
       "  <thead>\n",
       "    <tr style=\"text-align: right;\">\n",
       "      <th></th>\n",
       "      <th>province</th>\n",
       "      <th>content</th>\n",
       "      <th>properties.headline</th>\n",
       "      <th>properties.article</th>\n",
       "      <th>properties.rating</th>\n",
       "    </tr>\n",
       "  </thead>\n",
       "  <tbody>\n",
       "    <tr>\n",
       "      <th>0</th>\n",
       "      <td>上海</td>\n",
       "      <td>[{'title': '上海市委副书记吴清兼任政法委书记', 'en': 'Wu Qing,...</td>\n",
       "      <td>Shanghai</td>\n",
       "      <td>&lt;div class='appointment'&gt;&lt;h1&gt;&lt;b&gt;Shanghai&lt;/b&gt;&lt;/...</td>\n",
       "      <td>36</td>\n",
       "    </tr>\n",
       "    <tr>\n",
       "      <th>1</th>\n",
       "      <td>云南</td>\n",
       "      <td>[{'title': '刘非任云南省委组织部部长', 'en': 'Liu Fei is t...</td>\n",
       "      <td>Yunnan</td>\n",
       "      <td>&lt;div class='appointment'&gt;&lt;h1&gt;&lt;b&gt;Yunnan&lt;/b&gt;&lt;/h1...</td>\n",
       "      <td>21</td>\n",
       "    </tr>\n",
       "    <tr>\n",
       "      <th>2</th>\n",
       "      <td>内蒙古</td>\n",
       "      <td>[{'title': '内蒙古自治区政协副主席杨劼兼任教育厅厅长', 'en': 'Yang...</td>\n",
       "      <td>Inner Mongolia</td>\n",
       "      <td>&lt;div class='appointment'&gt;&lt;h1&gt;&lt;b&gt;Inner Mongolia...</td>\n",
       "      <td>23</td>\n",
       "    </tr>\n",
       "    <tr>\n",
       "      <th>3</th>\n",
       "      <td>北京</td>\n",
       "      <td>[{'title': '刘宇辉任国务院副秘书长 此前担任北京市副市长', 'en': 'Li...</td>\n",
       "      <td>Beijing</td>\n",
       "      <td>&lt;div class='appointment'&gt;&lt;h1&gt;&lt;b&gt;Beijing&lt;/b&gt;&lt;/h...</td>\n",
       "      <td>26</td>\n",
       "    </tr>\n",
       "    <tr>\n",
       "      <th>4</th>\n",
       "      <td>吉林</td>\n",
       "      <td>[{'title': '韩福春任吉林省委常委', 'en': 'Han Fuchun ser...</td>\n",
       "      <td>Jilin</td>\n",
       "      <td>&lt;div class='appointment'&gt;&lt;h1&gt;&lt;b&gt;Jilin&lt;/b&gt;&lt;/h1&gt;...</td>\n",
       "      <td>32</td>\n",
       "    </tr>\n",
       "  </tbody>\n",
       "</table>\n",
       "</div>"
      ],
      "text/plain": [
       "  province                                            content  \\\n",
       "0       上海  [{'title': '上海市委副书记吴清兼任政法委书记', 'en': 'Wu Qing,...   \n",
       "1       云南  [{'title': '刘非任云南省委组织部部长', 'en': 'Liu Fei is t...   \n",
       "2      内蒙古  [{'title': '内蒙古自治区政协副主席杨劼兼任教育厅厅长', 'en': 'Yang...   \n",
       "3       北京  [{'title': '刘宇辉任国务院副秘书长 此前担任北京市副市长', 'en': 'Li...   \n",
       "4       吉林  [{'title': '韩福春任吉林省委常委', 'en': 'Han Fuchun ser...   \n",
       "\n",
       "  properties.headline                                 properties.article  \\\n",
       "0            Shanghai  <div class='appointment'><h1><b>Shanghai</b></...   \n",
       "1              Yunnan  <div class='appointment'><h1><b>Yunnan</b></h1...   \n",
       "2      Inner Mongolia  <div class='appointment'><h1><b>Inner Mongolia...   \n",
       "3             Beijing  <div class='appointment'><h1><b>Beijing</b></h...   \n",
       "4               Jilin  <div class='appointment'><h1><b>Jilin</b></h1>...   \n",
       "\n",
       "   properties.rating  \n",
       "0                 36  \n",
       "1                 21  \n",
       "2                 23  \n",
       "3                 26  \n",
       "4                 32  "
      ]
     },
     "execution_count": 53,
     "metadata": {},
     "output_type": "execute_result"
    }
   ],
   "source": [
    "df2.head()"
   ]
  },
  {
   "cell_type": "markdown",
   "id": "5a6de490-218d-475e-a788-9176f53c1bf7",
   "metadata": {},
   "source": [
    "Notice: the column to merge doesn't need to show out. For example, I used Chinese names of provinces to merge. \n",
    "\n",
    "It's ok not having data for all districts. However, I want the map itself to be complete (or it's serious political problem)"
   ]
  },
  {
   "cell_type": "code",
   "execution_count": 54,
   "id": "333044b2-78b5-4346-be04-5edc67c082eb",
   "metadata": {},
   "outputs": [],
   "source": [
    "df_geo = df_geo.merge(df2, left_on='properties.name', right_on='province', how='left')"
   ]
  },
  {
   "cell_type": "code",
   "execution_count": 55,
   "id": "27f8eccf-b19e-45be-b175-307a121eb5f1",
   "metadata": {},
   "outputs": [],
   "source": [
    "ok_json = json.loads(df_geo.to_json(orient='records'))"
   ]
  },
  {
   "cell_type": "code",
   "execution_count": 56,
   "id": "457ba0ea-8e7e-4293-8ffc-a20c27d9d344",
   "metadata": {},
   "outputs": [],
   "source": [
    "def process_to_geojson(file):\n",
    "    geo_data = {\"type\": \"FeatureCollection\", \"features\":[]}\n",
    "    for row in file:\n",
    "        this_dict = {\"type\": \"Feature\", \"properties\":{}, \"geometry\": {}}\n",
    "        for key, value in row.items():\n",
    "            key_names = key.split('.')\n",
    "            if key_names[0] == 'geometry':\n",
    "                this_dict['geometry'][key_names[1]] = value\n",
    "            if str(key_names[0]) == 'properties':\n",
    "                this_dict['properties'][key_names[1]] = value\n",
    "        geo_data['features'].append(this_dict)\n",
    "    return geo_data"
   ]
  },
  {
   "cell_type": "code",
   "execution_count": 57,
   "id": "29d03f6f-6cab-473d-aef1-67406f76325b",
   "metadata": {},
   "outputs": [],
   "source": [
    "geo_format = process_to_geojson(ok_json)"
   ]
  },
  {
   "cell_type": "code",
   "execution_count": 58,
   "id": "fc1b673e-6061-4a7a-980d-567263af0e5d",
   "metadata": {},
   "outputs": [],
   "source": [
    "with open('geo-data.js', 'w') as outfile:\n",
    "    outfile.write(\"var infoData = \")\n",
    "#geojson output\n",
    "with open('geo-data.js', 'a') as outfile:\n",
    "    json.dump(geo_format, outfile)"
   ]
  },
  {
   "cell_type": "markdown",
   "id": "d49961d2-6ead-4e39-bbb4-26f5d49dd691",
   "metadata": {},
   "source": [
    "The final version of json add some other information for grouping.\n",
    "\n",
    "You will notice that for most of the provinces, the secretary and the NPC chairman is the same person. However there are some distincts. Usually for sub-provincial cities and Xinjiang, Tibet, Guangzhou, these two positions are for two persons. There are also some current vacancies.\n",
    "\n",
    "Scrape from: http://district.ce.cn/zt/rwk/rw/rspd/201302/17/t20130217_766061.shtml"
   ]
  },
  {
   "cell_type": "code",
   "execution_count": null,
   "id": "26ba65d1-8520-413b-95f8-370d58bda5d9",
   "metadata": {},
   "outputs": [],
   "source": []
  }
 ],
 "metadata": {
  "kernelspec": {
   "display_name": "Python 3 (ipykernel)",
   "language": "python",
   "name": "python3"
  },
  "language_info": {
   "codemirror_mode": {
    "name": "ipython",
    "version": 3
   },
   "file_extension": ".py",
   "mimetype": "text/x-python",
   "name": "python",
   "nbconvert_exporter": "python",
   "pygments_lexer": "ipython3",
   "version": "3.11.6"
  }
 },
 "nbformat": 4,
 "nbformat_minor": 5
}
